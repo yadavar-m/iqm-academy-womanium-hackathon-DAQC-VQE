{
 "cells": [
  {
   "cell_type": "markdown",
   "id": "22a2f717",
   "metadata": {},
   "source": [
    "# Preparing Hamiltonian of H2 Molecule\n",
    "\n",
    "This Hamiltonina obtained from [Electronic Structure documents of Qiskit-Nature](https://qiskit.org/documentation/nature/tutorials/01_electronic_structure.html) that is prepared based on `sto3g` basis set, `PYSCF` driver, `second_quantization` method, and `Parity` mapping method."
   ]
  },
  {
   "cell_type": "markdown",
   "id": "e20d74b2",
   "metadata": {},
   "source": [
    "molecular hamiltonian and each term? <br>\n",
    "electron-electron, nuclei-electron, electron-nuclei <br>\n",
    "after born openhimer approxiamtion? <br>\n",
    "shroginger eq ? <br>\n",
    "expectation value of E <br>\n",
    "Hartree-Fock initial state <br>\n",
    "Qiskit support:  <br>\n",
    "Gaussian, Psi4, PyQuante, PySCF  <br>\n",
    " ?????"
   ]
  },
  {
   "cell_type": "markdown",
   "id": "4e18d047",
   "metadata": {},
   "source": [
    "###  defining a molecule \n",
    "\n",
    "a picture of H2 <br>\n",
    "the geometry, angestron <br>\n",
    "what is a basis set? what is sto3g? <br>\n",
    "what is PYSCF ? <br>\n",
    "\n",
    "In the following we set up a PySCF driver, for the hydrogen molecule at equilibrium bond length (0.735 angstrom) in the singlet state and with no charge."
   ]
  },
  {
   "cell_type": "code",
   "execution_count": 1,
   "id": "16d90e77",
   "metadata": {},
   "outputs": [],
   "source": [
    "from qiskit_nature.drivers import UnitsType, Molecule\n",
    "from qiskit_nature.drivers.second_quantization import ElectronicStructureDriverType, ElectronicStructureMoleculeDriver\n",
    "\n",
    "H2_molecule = Molecule(\n",
    "    geometry=[[\"H\", [0.0, 0.0, 0.0]], [\"H\", [0.0, 0.0, 0.735]]], charge=0, multiplicity=1)\n",
    "my_driver = ElectronicStructureMoleculeDriver(\n",
    "    molecule=H2_molecule, basis=\"sto3g\", driver_type=ElectronicStructureDriverType.PYSCF)"
   ]
  },
  {
   "cell_type": "markdown",
   "id": "f60a9097",
   "metadata": {},
   "source": [
    "### second quantization\n",
    "\n",
    "what is the quantization? first quantization? <br>\n",
    "what is second quantization? <br>\n",
    "equation <br>"
   ]
  },
  {
   "cell_type": "code",
   "execution_count": null,
   "id": "3fdae87b",
   "metadata": {},
   "outputs": [],
   "source": [
    "from qiskit_nature.problems.second_quantization import ElectronicStructureProblem\n",
    "\n",
    "electronic_structure = ElectronicStructureProblem(my_driver)\n",
    "second_quantization_operator = electronic_structure.second_q_ops()\n",
    "print(second_quantization_operator[\"ElectronicEnergy\"])"
   ]
  },
  {
   "cell_type": "markdown",
   "id": "575162a7",
   "metadata": {},
   "source": [
    "### Convert to qubits\n",
    "How to convert from fermion into qubits? <br>\n",
    "convertors: Jordan_Wigner, Parity_Kitav , ... <br>\n"
   ]
  },
  {
   "cell_type": "code",
   "execution_count": null,
   "id": "1c97746f",
   "metadata": {},
   "outputs": [],
   "source": [
    "from qiskit_nature.converters.second_quantization import QubitConverter\n",
    "from qiskit_nature.mappers.second_quantization import JordanWignerMapper\n",
    "\n",
    "qubit_converter = QubitConverter(mapper=JordanWignerMapper())\n",
    "qubit_operator = qubit_converter.convert(second_quantization_operator[\"ElectronicEnergy\"])\n",
    "print(qubit_operator)"
   ]
  }
 ],
 "metadata": {
  "kernelspec": {
   "display_name": "Python 3 (ipykernel)",
   "language": "python",
   "name": "python3"
  },
  "language_info": {
   "codemirror_mode": {
    "name": "ipython",
    "version": 3
   },
   "file_extension": ".py",
   "mimetype": "text/x-python",
   "name": "python",
   "nbconvert_exporter": "python",
   "pygments_lexer": "ipython3",
   "version": "3.8.11"
  }
 },
 "nbformat": 4,
 "nbformat_minor": 5
}
