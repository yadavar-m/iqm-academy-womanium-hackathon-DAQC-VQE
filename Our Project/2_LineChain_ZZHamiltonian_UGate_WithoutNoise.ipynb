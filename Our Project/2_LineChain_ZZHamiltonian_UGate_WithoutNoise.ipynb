{
 "cells": [
  {
   "cell_type": "markdown",
   "metadata": {},
   "source": [
    "# VQE for H2 Molecule\n",
    "\n",
    "###  Preparing Hamiltonian of H2 Molecule\n",
    "This Hamiltonina obtained from [Electronic Structure documents of Qiskit-Nature](https://qiskit.org/documentation/nature/tutorials/01_electronic_structure.html) that is prepared based on `sto3g` basis set, `PYSCF` driver, `second_quantization` method, and `Jordan-Wigner` mapping method."
   ]
  },
  {
   "cell_type": "markdown",
   "metadata": {},
   "source": [
    "As we used `sto3g` basis set, the number of atomic orbitals is as follows:\n",
    "\n",
    "H: 1s = 1 <br>\n",
    "H: 1s = 1\n",
    "\n",
    "You can get the number of atomic orbitals for each element in each basis set [here](http://www.basissetexchange.org/).<br>\n",
    "The number of Molecular orbitals is: 1+1=2. <br>\n",
    "The number of Spin orbitals is equal to the number of Molecular orbitals multiplied by two: 2*2=4. <br>\n",
    "The number of qubits is equal to the number of Spin orbitals: 4."
   ]
  },
  {
   "cell_type": "code",
   "execution_count": 1,
   "metadata": {},
   "outputs": [
    {
     "name": "stdout",
     "output_type": "stream",
     "text": [
      "Number of qubits: 4\n"
     ]
    }
   ],
   "source": [
    "from qiskit.opflow import I, X, Z, Y\n",
    "\n",
    "H2_operator = (-0.8105479805373279 * I^I^I^I)+\\\n",
    "                (+ 0.1721839326191554 * I^I^I^Z)+\\\n",
    "                (- 0.22575349222402372 * I^I^Z^I)+\\\n",
    "                (+ 0.17218393261915543 * I^Z^I^I)+\\\n",
    "                (- 0.2257534922240237 * Z^I^I^I)+\\\n",
    "                (+ 0.12091263261776627 * I^I^Z^Z)+\\\n",
    "                (+ 0.16892753870087907 * I^Z^I^Z)+\\\n",
    "                (+ 0.045232799946057826 * Y^Y^Y^Y)+\\\n",
    "                (+ 0.045232799946057826 * X^X^Y^Y)+\\\n",
    "                (+ 0.045232799946057826 * Y^Y^X^X)+\\\n",
    "                (+ 0.045232799946057826 * X^X^X^X)+\\\n",
    "                (+ 0.1661454325638241 * Z^I^I^Z)+\\\n",
    "                (+ 0.1661454325638241 * I^Z^Z^I)+\\\n",
    "                (+ 0.17464343068300453 * Z^I^Z^I)+\\\n",
    "                (+ 0.12091263261776627 * Z^Z^I^I)\n",
    "\n",
    "print(\"Number of qubits:\", H2_operator.num_qubits)"
   ]
  },
  {
   "cell_type": "markdown",
   "metadata": {},
   "source": [
    "ground state? <br>\n",
    "eigenvalue? <br>\n",
    "shroginger eq?\n",
    "\n",
    "As there are only 2 qubits, it's easily tractable classically. We will use `NumPyMinimumEigensolver` to compute a reference value so we can compare later the results.\n",
    "\n"
   ]
  },
  {
   "cell_type": "code",
   "execution_count": 2,
   "metadata": {
    "scrolled": true
   },
   "outputs": [
    {
     "name": "stdout",
     "output_type": "stream",
     "text": [
      "Reference value: -1.8572750302023873\n"
     ]
    }
   ],
   "source": [
    "from qiskit.algorithms import NumPyMinimumEigensolver\n",
    "numpy1 = NumPyMinimumEigensolver()\n",
    "result1 = numpy1.compute_minimum_eigenvalue(operator=H2_operator)\n",
    "ref_value = result1.eigenvalue.real\n",
    "print(\"Reference value:\",ref_value)"
   ]
  },
  {
   "cell_type": "markdown",
   "metadata": {},
   "source": [
    "explanation of vqe? hybrid algorithm <br>\n",
    "photo from readme ?"
   ]
  },
  {
   "cell_type": "markdown",
   "metadata": {},
   "source": [
    "### Ansatz\n",
    "Explanation about ansatz ???"
   ]
  },
  {
   "cell_type": "code",
   "execution_count": 3,
   "metadata": {},
   "outputs": [],
   "source": [
    "from typing import List\n",
    "import numpy as np\n",
    "import qutip as qt\n",
    "from qiskit.extensions import HamiltonianGate\n",
    "from qiskit import QuantumCircuit, QuantumRegister, Aer, execute\n",
    "from qiskit.providers.aer import QasmSimulator\n",
    "from qiskit.quantum_info import Operator"
   ]
  },
  {
   "cell_type": "code",
   "execution_count": 4,
   "metadata": {},
   "outputs": [],
   "source": [
    "def create_zz_hamiltonian(num_qubits: int, connectivity: List[List[int]],\n",
    "                              h_coeffs: List[float]) -> np.ndarray:\n",
    "    \"\"\"Creates a global Hamiltonian consisting of a sum of one (g * Z^i.Z^j) term per device connection.\n",
    "\n",
    "    Args:\n",
    "        num_qubits (int): number of qubits of the Hamiltonian\n",
    "        connectivity (List[List[int]]): connectivity of the device\n",
    "        h_coeffs (List[float]): list of coefficients of each ZZ term\n",
    "\n",
    "    Returns:\n",
    "        np.ndarray: tensored Hamiltonian\n",
    "    \"\"\"\n",
    "    \n",
    "    dim = 2 ** num_qubits\n",
    "    num_connections = len(connectivity)\n",
    "    zz_hamiltonian = np.zeros([dim, dim], dtype=np.complex128)\n",
    "\n",
    "    # create a matrix that is the sum of ZZ operators on all connected qubits,\n",
    "    # tensored with the identity\n",
    "    for c in range(num_connections):\n",
    "        ops_to_tensor = [qt.identity(2)] * num_qubits\n",
    "        ops_to_tensor[connectivity[c][0]] = qt.sigmaz()\n",
    "        ops_to_tensor[connectivity[c][1]] = qt.sigmaz()\n",
    "        zz_hamiltonian += h_coeffs[c] * np.array(qt.tensor(ops_to_tensor))\n",
    "\n",
    "    return zz_hamiltonian"
   ]
  },
  {
   "cell_type": "code",
   "execution_count": 5,
   "metadata": {},
   "outputs": [],
   "source": [
    "num_qubits = 4\n",
    "hamiltonian = create_zz_hamiltonian(num_qubits, [[0, 1],[1,2],[2,3]], [1.,1.,1.,1.]) \n",
    "analog_block = HamiltonianGate(data=hamiltonian, time=2) "
   ]
  },
  {
   "cell_type": "code",
   "execution_count": 6,
   "metadata": {},
   "outputs": [],
   "source": [
    "qr = QuantumRegister(num_qubits)\n",
    "circ = QuantumCircuit(qr)"
   ]
  },
  {
   "cell_type": "markdown",
   "metadata": {},
   "source": [
    "### Initialization\n",
    "hartree fock method ??? <br>\n",
    "explanation ???"
   ]
  },
  {
   "cell_type": "code",
   "execution_count": 7,
   "metadata": {},
   "outputs": [],
   "source": [
    "#from qiskit_nature.converters.second_quantization import QubitConverter\n",
    "#from qiskit_nature.mappers.second_quantization import JordanWignerMapper\n",
    "#qubit_converter = QubitConverter(mapper=JordanWignerMapper())"
   ]
  },
  {
   "cell_type": "code",
   "execution_count": 8,
   "metadata": {},
   "outputs": [],
   "source": [
    "#from qiskit_nature.circuit.library import HartreeFock\n",
    "#init_state = HartreeFock(num_spin_orbitals=4, \n",
    "#                         num_particles=2,\n",
    "#                         qubit_converter=qubit_converter)\n",
    "#init_state.barrier()\n",
    "#init_state.draw()"
   ]
  },
  {
   "cell_type": "code",
   "execution_count": 9,
   "metadata": {},
   "outputs": [
    {
     "data": {
      "text/plain": [
       "<qiskit.circuit.instructionset.InstructionSet at 0x311c89dc80>"
      ]
     },
     "execution_count": 9,
     "metadata": {},
     "output_type": "execute_result"
    }
   ],
   "source": [
    "#initialization\n",
    "circ.x(0)\n",
    "circ.h(1)\n",
    "circ.barrier()"
   ]
  },
  {
   "cell_type": "markdown",
   "metadata": {},
   "source": [
    "### Parametrizing the circuit\n",
    "for solving molecule hamiltonian, we use U gate, why??? <br>\n",
    "only teta? phi and lambda to zero, why ??"
   ]
  },
  {
   "cell_type": "code",
   "execution_count": 10,
   "metadata": {},
   "outputs": [
    {
     "data": {
      "text/html": [
       "<pre style=\"word-wrap: normal;white-space: pre;background: #fff0;line-height: 1.1;font-family: &quot;Courier New&quot;,Courier,monospace\">      ┌───┐ ░ ┌─────────────┐ ░ ┌───────────────┐┌─────────────┐\n",
       "q0_0: ┤ X ├─░─┤ U(θ[0],0,0) ├─░─┤0              ├┤ U(θ[4],0,0) ├\n",
       "      ├───┤ ░ ├─────────────┤ ░ │               │├─────────────┤\n",
       "q0_1: ┤ H ├─░─┤ U(θ[1],0,0) ├─░─┤1              ├┤ U(θ[5],0,0) ├\n",
       "      └───┘ ░ ├─────────────┤ ░ │  analog block │├─────────────┤\n",
       "q0_2: ──────░─┤ U(θ[2],0,0) ├─░─┤2              ├┤ U(θ[6],0,0) ├\n",
       "            ░ ├─────────────┤ ░ │               │├─────────────┤\n",
       "q0_3: ──────░─┤ U(θ[3],0,0) ├─░─┤3              ├┤ U(θ[7],0,0) ├\n",
       "            ░ └─────────────┘ ░ └───────────────┘└─────────────┘</pre>"
      ],
      "text/plain": [
       "      ┌───┐ ░ ┌─────────────┐ ░ ┌───────────────┐┌─────────────┐\n",
       "q0_0: ┤ X ├─░─┤ U(θ[0],0,0) ├─░─┤0              ├┤ U(θ[4],0,0) ├\n",
       "      ├───┤ ░ ├─────────────┤ ░ │               │├─────────────┤\n",
       "q0_1: ┤ H ├─░─┤ U(θ[1],0,0) ├─░─┤1              ├┤ U(θ[5],0,0) ├\n",
       "      └───┘ ░ ├─────────────┤ ░ │  analog block │├─────────────┤\n",
       "q0_2: ──────░─┤ U(θ[2],0,0) ├─░─┤2              ├┤ U(θ[6],0,0) ├\n",
       "            ░ ├─────────────┤ ░ │               │├─────────────┤\n",
       "q0_3: ──────░─┤ U(θ[3],0,0) ├─░─┤3              ├┤ U(θ[7],0,0) ├\n",
       "            ░ └─────────────┘ ░ └───────────────┘└─────────────┘"
      ]
     },
     "execution_count": 10,
     "metadata": {},
     "output_type": "execute_result"
    }
   ],
   "source": [
    "# adding parametrized u gates at the first and last part\n",
    "from qiskit.circuit import Parameter, ParameterVector\n",
    "\n",
    "p = ParameterVector('θ', 2*num_qubits)\n",
    "\n",
    "\n",
    "counter=0\n",
    "for i in range(num_qubits):\n",
    "    circ.u(p[counter],0,0,i)\n",
    "    counter+=1\n",
    "circ.barrier()\n",
    "circ.unitary(analog_block, [qr[0], qr[1], qr[2], qr[3]], label='analog block')\n",
    "for i in range(num_qubits):\n",
    "    circ.u(p[counter],0,0,i)\n",
    "    counter+=1\n",
    "circ.draw()"
   ]
  },
  {
   "cell_type": "code",
   "execution_count": 11,
   "metadata": {},
   "outputs": [],
   "source": [
    "# ansatz\n",
    "ansatz = circ"
   ]
  },
  {
   "cell_type": "markdown",
   "metadata": {},
   "source": [
    "### Setting other inputs of VQE"
   ]
  },
  {
   "cell_type": "code",
   "execution_count": 12,
   "metadata": {},
   "outputs": [],
   "source": [
    "# random seed\n",
    "from qiskit.utils import algorithm_globals\n",
    "seed = 170\n",
    "iterations = 125\n",
    "algorithm_globals.random_seed = seed"
   ]
  },
  {
   "cell_type": "code",
   "execution_count": 13,
   "metadata": {},
   "outputs": [],
   "source": [
    "# Quantum Instance\n",
    "from qiskit import Aer\n",
    "from qiskit.utils import QuantumInstance\n",
    "backend = Aer.get_backend('aer_simulator')\n",
    "qi = QuantumInstance(backend=backend, seed_simulator=seed, seed_transpiler=seed) "
   ]
  },
  {
   "cell_type": "code",
   "execution_count": 14,
   "metadata": {},
   "outputs": [],
   "source": [
    "# callback function\n",
    "counts = []\n",
    "values = []\n",
    "def store_intermediate_result(eval_count, parameters, mean, std):\n",
    "    counts.append(eval_count)\n",
    "    values.append(mean)"
   ]
  },
  {
   "cell_type": "code",
   "execution_count": 15,
   "metadata": {},
   "outputs": [],
   "source": [
    "# optimization\n",
    "from qiskit.algorithms.optimizers import SPSA\n",
    "spsa = SPSA(maxiter=iterations)"
   ]
  },
  {
   "cell_type": "markdown",
   "metadata": {},
   "source": [
    "### VQE"
   ]
  },
  {
   "cell_type": "code",
   "execution_count": 16,
   "metadata": {},
   "outputs": [],
   "source": [
    "# VQE\n",
    "from qiskit.algorithms import VQE\n",
    "vqe = VQE(ansatz, optimizer=spsa, callback=store_intermediate_result, quantum_instance=qi)\n",
    "result = vqe.compute_minimum_eigenvalue(operator=H2_operator)\n"
   ]
  },
  {
   "cell_type": "code",
   "execution_count": 17,
   "metadata": {},
   "outputs": [
    {
     "name": "stdout",
     "output_type": "stream",
     "text": [
      "VQE on Aer qasm simulator (no noise): -1.8302872520007658\n",
      "Delta from reference energy value is: 0.02698777820162146\n"
     ]
    }
   ],
   "source": [
    "print(\"VQE on Aer qasm simulator (no noise):\",result.eigenvalue.real)\n",
    "print(\"Delta from reference energy value is:\",result.eigenvalue.real - ref_value)"
   ]
  },
  {
   "cell_type": "markdown",
   "metadata": {},
   "source": [
    "### Plot"
   ]
  },
  {
   "cell_type": "markdown",
   "metadata": {},
   "source": [
    "We captured the energy values above during the convergence so we can see what went on in the graph below."
   ]
  },
  {
   "cell_type": "code",
   "execution_count": 18,
   "metadata": {},
   "outputs": [
    {
     "data": {
      "text/plain": [
       "Text(0.5, 1.0, 'Convergence with no noise')"
      ]
     },
     "execution_count": 18,
     "metadata": {},
     "output_type": "execute_result"
    },
    {
     "data": {
      "image/png": "[encoded data removed]",
      "text/plain": [
       "<Figure size 864x288 with 1 Axes>"
      ]
     },
     "metadata": {
      "needs_background": "light"
     },
     "output_type": "display_data"
    }
   ],
   "source": [
    "import pylab\n",
    "pylab.rcParams['figure.figsize'] = (12, 4) # ????\n",
    "pylab.plot(counts, values)\n",
    "pylab.xlabel('Eval count')\n",
    "pylab.ylabel('Energy')\n",
    "pylab.title('Convergence with no noise') # Title"
   ]
  }
 ],
 "metadata": {
  "kernelspec": {
   "display_name": "Python 3 (ipykernel)",
   "language": "python",
   "name": "python3"
  },
  "language_info": {
   "codemirror_mode": {
    "name": "ipython",
    "version": 3
   },
   "file_extension": ".py",
   "mimetype": "text/x-python",
   "name": "python",
   "nbconvert_exporter": "python",
   "pygments_lexer": "ipython3",
   "version": "3.8.11"
  },
  "vscode": {
   "interpreter": {
    "hash": "aee8b7b246df8f9039afb4144a1f6fd8d2ca17a180786b69acc140d282b71a49"
   }
  },
  "widgets": {
   "application/vnd.jupyter.widget-state+json": {
    "state": {},
    "version_major": 2,
    "version_minor": 0
   }
  }
 },
 "nbformat": 4,
 "nbformat_minor": 4
}
